{
 "cells": [
  {
   "cell_type": "markdown",
   "metadata": {},
   "source": [
    "Show correlation over time between the S&P500and Nasdaq."
   ]
  },
  {
   "cell_type": "code",
   "execution_count": 24,
   "metadata": {},
   "outputs": [],
   "source": [
    "%matplotlib inline\n",
    "import matplotlib.pyplot as plt\n",
    "import pandas as pd"
   ]
  },
  {
   "cell_type": "code",
   "execution_count": 4,
   "metadata": {},
   "outputs": [],
   "source": [
    "def get_returns(file):\n",
    "    \"\"\"\n",
    "    This function reads a datafile from disk and returns percentage returns\n",
    "    \"\"\"\n",
    "    return pd.read_csv(file+\".csv\", index_col=0, parse_dates=True).pct_change()\n",
    "\n",
    "df = get_returns('SP500')"
   ]
  },
  {
   "cell_type": "code",
   "execution_count": 5,
   "metadata": {},
   "outputs": [
    {
     "data": {
      "text/html": [
       "<div>\n",
       "<style scoped>\n",
       "    .dataframe tbody tr th:only-of-type {\n",
       "        vertical-align: middle;\n",
       "    }\n",
       "\n",
       "    .dataframe tbody tr th {\n",
       "        vertical-align: top;\n",
       "    }\n",
       "\n",
       "    .dataframe thead th {\n",
       "        text-align: right;\n",
       "    }\n",
       "</style>\n",
       "<table border=\"1\" class=\"dataframe\">\n",
       "  <thead>\n",
       "    <tr style=\"text-align: right;\">\n",
       "      <th></th>\n",
       "      <th>SP500</th>\n",
       "    </tr>\n",
       "    <tr>\n",
       "      <th>Date</th>\n",
       "      <th></th>\n",
       "    </tr>\n",
       "  </thead>\n",
       "  <tbody>\n",
       "    <tr>\n",
       "      <th>2009-06-23</th>\n",
       "      <td>NaN</td>\n",
       "    </tr>\n",
       "    <tr>\n",
       "      <th>2009-06-24</th>\n",
       "      <td>0.006524</td>\n",
       "    </tr>\n",
       "    <tr>\n",
       "      <th>2009-06-25</th>\n",
       "      <td>0.021444</td>\n",
       "    </tr>\n",
       "    <tr>\n",
       "      <th>2009-06-26</th>\n",
       "      <td>-0.001478</td>\n",
       "    </tr>\n",
       "    <tr>\n",
       "      <th>2009-06-29</th>\n",
       "      <td>0.009065</td>\n",
       "    </tr>\n",
       "  </tbody>\n",
       "</table>\n",
       "</div>"
      ],
      "text/plain": [
       "               SP500\n",
       "Date                \n",
       "2009-06-23       NaN\n",
       "2009-06-24  0.006524\n",
       "2009-06-25  0.021444\n",
       "2009-06-26 -0.001478\n",
       "2009-06-29  0.009065"
      ]
     },
     "execution_count": 5,
     "metadata": {},
     "output_type": "execute_result"
    }
   ],
   "source": [
    "df.head()"
   ]
  },
  {
   "cell_type": "code",
   "execution_count": 6,
   "metadata": {},
   "outputs": [],
   "source": [
    "# add col for Nasdaq\n",
    "df['NDX'] = get_returns('NDX')"
   ]
  },
  {
   "cell_type": "code",
   "execution_count": 7,
   "metadata": {},
   "outputs": [
    {
     "data": {
      "text/html": [
       "<div>\n",
       "<style scoped>\n",
       "    .dataframe tbody tr th:only-of-type {\n",
       "        vertical-align: middle;\n",
       "    }\n",
       "\n",
       "    .dataframe tbody tr th {\n",
       "        vertical-align: top;\n",
       "    }\n",
       "\n",
       "    .dataframe thead th {\n",
       "        text-align: right;\n",
       "    }\n",
       "</style>\n",
       "<table border=\"1\" class=\"dataframe\">\n",
       "  <thead>\n",
       "    <tr style=\"text-align: right;\">\n",
       "      <th></th>\n",
       "      <th>SP500</th>\n",
       "      <th>NDX</th>\n",
       "    </tr>\n",
       "    <tr>\n",
       "      <th>Date</th>\n",
       "      <th></th>\n",
       "      <th></th>\n",
       "    </tr>\n",
       "  </thead>\n",
       "  <tbody>\n",
       "    <tr>\n",
       "      <th>2009-06-23</th>\n",
       "      <td>NaN</td>\n",
       "      <td>-0.001507</td>\n",
       "    </tr>\n",
       "    <tr>\n",
       "      <th>2009-06-24</th>\n",
       "      <td>0.006524</td>\n",
       "      <td>0.015866</td>\n",
       "    </tr>\n",
       "    <tr>\n",
       "      <th>2009-06-25</th>\n",
       "      <td>0.021444</td>\n",
       "      <td>0.019875</td>\n",
       "    </tr>\n",
       "    <tr>\n",
       "      <th>2009-06-26</th>\n",
       "      <td>-0.001478</td>\n",
       "      <td>0.002968</td>\n",
       "    </tr>\n",
       "    <tr>\n",
       "      <th>2009-06-29</th>\n",
       "      <td>0.009065</td>\n",
       "      <td>0.002452</td>\n",
       "    </tr>\n",
       "  </tbody>\n",
       "</table>\n",
       "</div>"
      ],
      "text/plain": [
       "               SP500       NDX\n",
       "Date                          \n",
       "2009-06-23       NaN -0.001507\n",
       "2009-06-24  0.006524  0.015866\n",
       "2009-06-25  0.021444  0.019875\n",
       "2009-06-26 -0.001478  0.002968\n",
       "2009-06-29  0.009065  0.002452"
      ]
     },
     "execution_count": 7,
     "metadata": {},
     "output_type": "execute_result"
    }
   ],
   "source": [
    "df.head()"
   ]
  },
  {
   "cell_type": "code",
   "execution_count": 9,
   "metadata": {},
   "outputs": [
    {
     "data": {
      "text/html": [
       "<div>\n",
       "<style scoped>\n",
       "    .dataframe tbody tr th:only-of-type {\n",
       "        vertical-align: middle;\n",
       "    }\n",
       "\n",
       "    .dataframe tbody tr th {\n",
       "        vertical-align: top;\n",
       "    }\n",
       "\n",
       "    .dataframe thead th {\n",
       "        text-align: right;\n",
       "    }\n",
       "</style>\n",
       "<table border=\"1\" class=\"dataframe\">\n",
       "  <thead>\n",
       "    <tr style=\"text-align: right;\">\n",
       "      <th></th>\n",
       "      <th>SP500</th>\n",
       "      <th>NDX</th>\n",
       "    </tr>\n",
       "    <tr>\n",
       "      <th>Date</th>\n",
       "      <th></th>\n",
       "      <th></th>\n",
       "    </tr>\n",
       "  </thead>\n",
       "  <tbody>\n",
       "    <tr>\n",
       "      <th>2018-07-27</th>\n",
       "      <td>-0.006562</td>\n",
       "      <td>-0.014048</td>\n",
       "    </tr>\n",
       "    <tr>\n",
       "      <th>2018-07-30</th>\n",
       "      <td>-0.005754</td>\n",
       "      <td>-0.014209</td>\n",
       "    </tr>\n",
       "    <tr>\n",
       "      <th>2018-07-31</th>\n",
       "      <td>0.004885</td>\n",
       "      <td>0.005405</td>\n",
       "    </tr>\n",
       "    <tr>\n",
       "      <th>2018-08-01</th>\n",
       "      <td>-0.001040</td>\n",
       "      <td>0.005656</td>\n",
       "    </tr>\n",
       "    <tr>\n",
       "      <th>2018-08-02</th>\n",
       "      <td>0.004926</td>\n",
       "      <td>0.013648</td>\n",
       "    </tr>\n",
       "  </tbody>\n",
       "</table>\n",
       "</div>"
      ],
      "text/plain": [
       "               SP500       NDX\n",
       "Date                          \n",
       "2018-07-27 -0.006562 -0.014048\n",
       "2018-07-30 -0.005754 -0.014209\n",
       "2018-07-31  0.004885  0.005405\n",
       "2018-08-01 -0.001040  0.005656\n",
       "2018-08-02  0.004926  0.013648"
      ]
     },
     "execution_count": 9,
     "metadata": {},
     "output_type": "execute_result"
    }
   ],
   "source": [
    "df.tail()"
   ]
  },
  {
   "cell_type": "code",
   "execution_count": 8,
   "metadata": {},
   "outputs": [
    {
     "data": {
      "text/plain": [
       "<matplotlib.axes._subplots.AxesSubplot at 0x10eaab1d0>"
      ]
     },
     "execution_count": 8,
     "metadata": {},
     "output_type": "execute_result"
    },
    {
     "data": {
      "image/png": "[encoded data removed]",
      "text/plain": [
       "<Figure size 432x288 with 1 Axes>"
      ]
     },
     "metadata": {
      "needs_background": "light"
     },
     "output_type": "display_data"
    }
   ],
   "source": [
    "# calculate correlations, plot the last 200 data points\n",
    "\n",
    "# apply correlation formula on rolling 50 day window of the percentag returns for the indexes\n",
    "# discard all data except last 200 rows\n",
    "# plot\n",
    "df['SP500'].rolling(50).corr(df['NDX'])[-200:].plot()"
   ]
  },
  {
   "cell_type": "markdown",
   "metadata": {},
   "source": [
    "### Prettier graphs\n",
    "\n",
    "This time, we will \n",
    "1. Show a rebased comparison the S&P500 and Nasdaq, recalculated with the same starting value of 1.\n",
    "2. Relative strength of Nasdqa to the S&P500 \n",
    "3. Correlation between the two."
   ]
  },
  {
   "cell_type": "code",
   "execution_count": 13,
   "metadata": {},
   "outputs": [],
   "source": [
    "def get_data(file):\n",
    "    df = pd.read_csv(file+'.csv', index_col='Date', parse_dates=['Date'])\n",
    "    return df\n",
    "\n",
    "def calc_corr(ser1, ser2, window):\n",
    "    \"\"\"\n",
    "    Calculates correlation between two series.\n",
    "    \"\"\"\n",
    "    ret1 = ser1.pct_change()\n",
    "    ret2 = ser2.pct_change()\n",
    "    corr = ret1.rolling(window).corr(ret2)\n",
    "    return corr"
   ]
  },
  {
   "cell_type": "code",
   "execution_count": 14,
   "metadata": {},
   "outputs": [
    {
     "data": {
      "text/html": [
       "<div>\n",
       "<style scoped>\n",
       "    .dataframe tbody tr th:only-of-type {\n",
       "        vertical-align: middle;\n",
       "    }\n",
       "\n",
       "    .dataframe tbody tr th {\n",
       "        vertical-align: top;\n",
       "    }\n",
       "\n",
       "    .dataframe thead th {\n",
       "        text-align: right;\n",
       "    }\n",
       "</style>\n",
       "<table border=\"1\" class=\"dataframe\">\n",
       "  <thead>\n",
       "    <tr style=\"text-align: right;\">\n",
       "      <th></th>\n",
       "      <th>SP500</th>\n",
       "      <th>NDX</th>\n",
       "    </tr>\n",
       "    <tr>\n",
       "      <th>Date</th>\n",
       "      <th></th>\n",
       "      <th></th>\n",
       "    </tr>\n",
       "  </thead>\n",
       "  <tbody>\n",
       "    <tr>\n",
       "      <th>1990-01-02</th>\n",
       "      <td>359.69</td>\n",
       "      <td>227.725</td>\n",
       "    </tr>\n",
       "    <tr>\n",
       "      <th>1990-01-03</th>\n",
       "      <td>358.76</td>\n",
       "      <td>226.100</td>\n",
       "    </tr>\n",
       "    <tr>\n",
       "      <th>1990-01-04</th>\n",
       "      <td>355.67</td>\n",
       "      <td>224.715</td>\n",
       "    </tr>\n",
       "    <tr>\n",
       "      <th>1990-01-05</th>\n",
       "      <td>352.20</td>\n",
       "      <td>223.140</td>\n",
       "    </tr>\n",
       "    <tr>\n",
       "      <th>1990-01-08</th>\n",
       "      <td>353.79</td>\n",
       "      <td>223.540</td>\n",
       "    </tr>\n",
       "  </tbody>\n",
       "</table>\n",
       "</div>"
      ],
      "text/plain": [
       "             SP500      NDX\n",
       "Date                       \n",
       "1990-01-02  359.69  227.725\n",
       "1990-01-03  358.76  226.100\n",
       "1990-01-04  355.67  224.715\n",
       "1990-01-05  352.20  223.140\n",
       "1990-01-08  353.79  223.540"
      ]
     },
     "execution_count": 14,
     "metadata": {},
     "output_type": "execute_result"
    }
   ],
   "source": [
    "# get the log return data\n",
    "df = get_data('indexes')\n",
    "df.head()"
   ]
  },
  {
   "cell_type": "code",
   "execution_count": 17,
   "metadata": {},
   "outputs": [],
   "source": [
    "# define how many points we want to plot (trading days)\n",
    "points_to_plot = 300\n",
    "\n",
    "# rebase the two series to the same point in time,\n",
    "# this will be plot start\n",
    "for ind in df:\n",
    "    \"\"\"\n",
    "    Loop through each column, slice last 300 points,\n",
    "    get percent return of one col at a time, add 1.\n",
    "    Then calculate cumulative product.\n",
    "    \"\"\"\n",
    "    df[ind+'_rebased'] = (df[-points_to_plot:][ind].pct_change() + 1).cumprod()\n",
    "    "
   ]
  },
  {
   "cell_type": "code",
   "execution_count": 19,
   "metadata": {},
   "outputs": [
    {
     "data": {
      "text/html": [
       "<div>\n",
       "<style scoped>\n",
       "    .dataframe tbody tr th:only-of-type {\n",
       "        vertical-align: middle;\n",
       "    }\n",
       "\n",
       "    .dataframe tbody tr th {\n",
       "        vertical-align: top;\n",
       "    }\n",
       "\n",
       "    .dataframe thead th {\n",
       "        text-align: right;\n",
       "    }\n",
       "</style>\n",
       "<table border=\"1\" class=\"dataframe\">\n",
       "  <thead>\n",
       "    <tr style=\"text-align: right;\">\n",
       "      <th></th>\n",
       "      <th>SP500</th>\n",
       "      <th>NDX</th>\n",
       "      <th>SP500_rebased</th>\n",
       "      <th>NDX_rebased</th>\n",
       "    </tr>\n",
       "    <tr>\n",
       "      <th>Date</th>\n",
       "      <th></th>\n",
       "      <th></th>\n",
       "      <th></th>\n",
       "      <th></th>\n",
       "    </tr>\n",
       "  </thead>\n",
       "  <tbody>\n",
       "    <tr>\n",
       "      <th>2018-07-27</th>\n",
       "      <td>2818.82</td>\n",
       "      <td>7296.781</td>\n",
       "      <td>1.167179</td>\n",
       "      <td>1.262774</td>\n",
       "    </tr>\n",
       "    <tr>\n",
       "      <th>2018-07-30</th>\n",
       "      <td>2802.60</td>\n",
       "      <td>7193.103</td>\n",
       "      <td>1.160463</td>\n",
       "      <td>1.244832</td>\n",
       "    </tr>\n",
       "    <tr>\n",
       "      <th>2018-07-31</th>\n",
       "      <td>2816.29</td>\n",
       "      <td>7231.983</td>\n",
       "      <td>1.166132</td>\n",
       "      <td>1.251560</td>\n",
       "    </tr>\n",
       "    <tr>\n",
       "      <th>2018-08-01</th>\n",
       "      <td>2813.36</td>\n",
       "      <td>7272.887</td>\n",
       "      <td>1.164919</td>\n",
       "      <td>1.258639</td>\n",
       "    </tr>\n",
       "    <tr>\n",
       "      <th>2018-08-02</th>\n",
       "      <td>2827.22</td>\n",
       "      <td>7372.148</td>\n",
       "      <td>1.170658</td>\n",
       "      <td>1.275817</td>\n",
       "    </tr>\n",
       "  </tbody>\n",
       "</table>\n",
       "</div>"
      ],
      "text/plain": [
       "              SP500       NDX  SP500_rebased  NDX_rebased\n",
       "Date                                                     \n",
       "2018-07-27  2818.82  7296.781       1.167179     1.262774\n",
       "2018-07-30  2802.60  7193.103       1.160463     1.244832\n",
       "2018-07-31  2816.29  7231.983       1.166132     1.251560\n",
       "2018-08-01  2813.36  7272.887       1.164919     1.258639\n",
       "2018-08-02  2827.22  7372.148       1.170658     1.275817"
      ]
     },
     "execution_count": 19,
     "metadata": {},
     "output_type": "execute_result"
    }
   ],
   "source": [
    "df.tail()"
   ]
  },
  {
   "cell_type": "code",
   "execution_count": 20,
   "metadata": {},
   "outputs": [],
   "source": [
    "# relative strength, NDX to SP500\n",
    "df['rel_str'] = df['NDX'] / df['SP500']\n",
    "\n",
    "# calculate 50 day rolling correlation\n",
    "df['corr'] = calc_corr(df['NDX'], df['SP500'], 100)"
   ]
  },
  {
   "cell_type": "code",
   "execution_count": 21,
   "metadata": {},
   "outputs": [
    {
     "data": {
      "text/html": [
       "<div>\n",
       "<style scoped>\n",
       "    .dataframe tbody tr th:only-of-type {\n",
       "        vertical-align: middle;\n",
       "    }\n",
       "\n",
       "    .dataframe tbody tr th {\n",
       "        vertical-align: top;\n",
       "    }\n",
       "\n",
       "    .dataframe thead th {\n",
       "        text-align: right;\n",
       "    }\n",
       "</style>\n",
       "<table border=\"1\" class=\"dataframe\">\n",
       "  <thead>\n",
       "    <tr style=\"text-align: right;\">\n",
       "      <th></th>\n",
       "      <th>SP500</th>\n",
       "      <th>NDX</th>\n",
       "      <th>SP500_rebased</th>\n",
       "      <th>NDX_rebased</th>\n",
       "      <th>rel_str</th>\n",
       "      <th>corr</th>\n",
       "    </tr>\n",
       "    <tr>\n",
       "      <th>Date</th>\n",
       "      <th></th>\n",
       "      <th></th>\n",
       "      <th></th>\n",
       "      <th></th>\n",
       "      <th></th>\n",
       "      <th></th>\n",
       "    </tr>\n",
       "  </thead>\n",
       "  <tbody>\n",
       "    <tr>\n",
       "      <th>2018-07-27</th>\n",
       "      <td>2818.82</td>\n",
       "      <td>7296.781</td>\n",
       "      <td>1.167179</td>\n",
       "      <td>1.262774</td>\n",
       "      <td>2.588594</td>\n",
       "      <td>0.939082</td>\n",
       "    </tr>\n",
       "    <tr>\n",
       "      <th>2018-07-30</th>\n",
       "      <td>2802.60</td>\n",
       "      <td>7193.103</td>\n",
       "      <td>1.160463</td>\n",
       "      <td>1.244832</td>\n",
       "      <td>2.566582</td>\n",
       "      <td>0.938597</td>\n",
       "    </tr>\n",
       "    <tr>\n",
       "      <th>2018-07-31</th>\n",
       "      <td>2816.29</td>\n",
       "      <td>7231.983</td>\n",
       "      <td>1.166132</td>\n",
       "      <td>1.251560</td>\n",
       "      <td>2.567911</td>\n",
       "      <td>0.938573</td>\n",
       "    </tr>\n",
       "    <tr>\n",
       "      <th>2018-08-01</th>\n",
       "      <td>2813.36</td>\n",
       "      <td>7272.887</td>\n",
       "      <td>1.164919</td>\n",
       "      <td>1.258639</td>\n",
       "      <td>2.585125</td>\n",
       "      <td>0.935668</td>\n",
       "    </tr>\n",
       "    <tr>\n",
       "      <th>2018-08-02</th>\n",
       "      <td>2827.22</td>\n",
       "      <td>7372.148</td>\n",
       "      <td>1.170658</td>\n",
       "      <td>1.275817</td>\n",
       "      <td>2.607561</td>\n",
       "      <td>0.935795</td>\n",
       "    </tr>\n",
       "  </tbody>\n",
       "</table>\n",
       "</div>"
      ],
      "text/plain": [
       "              SP500       NDX  SP500_rebased  NDX_rebased   rel_str      corr\n",
       "Date                                                                         \n",
       "2018-07-27  2818.82  7296.781       1.167179     1.262774  2.588594  0.939082\n",
       "2018-07-30  2802.60  7193.103       1.160463     1.244832  2.566582  0.938597\n",
       "2018-07-31  2816.29  7231.983       1.166132     1.251560  2.567911  0.938573\n",
       "2018-08-01  2813.36  7272.887       1.164919     1.258639  2.585125  0.935668\n",
       "2018-08-02  2827.22  7372.148       1.170658     1.275817  2.607561  0.935795"
      ]
     },
     "execution_count": 21,
     "metadata": {},
     "output_type": "execute_result"
    }
   ],
   "source": [
    "df.tail()"
   ]
  },
  {
   "cell_type": "code",
   "execution_count": 22,
   "metadata": {},
   "outputs": [],
   "source": [
    "# discard all but last 300 data points\n",
    "plot_df = df[-points_to_plot:]"
   ]
  },
  {
   "cell_type": "code",
   "execution_count": 28,
   "metadata": {},
   "outputs": [
    {
     "data": {
      "image/png": "[encoded data removed]",
      "text/plain": [
       "<Figure size 864x576 with 3 Axes>"
      ]
     },
     "metadata": {
      "needs_background": "light"
     },
     "output_type": "display_data"
    }
   ],
   "source": [
    "fig = plt.figure(figsize=(12,8))\n",
    "\n",
    "# first subplot: 3 high / 1 wide / 1st\n",
    "ax = fig.add_subplot(311)\n",
    "ax.set_title('Index Comparison')\n",
    "ax.semilogy(plot_df['SP500_rebased'], linestyle='-', \n",
    "            label='S&P 500', linewidth=3.0)\n",
    "ax.semilogy(plot_df['NDX_rebased'], linestyle='--', \n",
    "            label='Nasdaq', linewidth=3.0)\n",
    "ax.legend()\n",
    "ax.grid(False)\n",
    "\n",
    "# second subplot: 3 high / 1 wide / 2nd\n",
    "ax = fig.add_subplot(312)\n",
    "ax.plot(plot_df['rel_str'], \n",
    "        label='Relative Strength, Nasdaq to S&P 500',\n",
    "        linestyle=\":\", linewidth=3.0)\n",
    "ax.legend()\n",
    "ax.grid(False)\n",
    "\n",
    "# third subplot: 3 high / 1 wide / 3rd\n",
    "ax = fig.add_subplot(313)\n",
    "ax.plot(plot_df['corr'], \n",
    "        label='Correlation between Nasdaq and S&P 500',\n",
    "        linestyle=\"-.\", linewidth=3.0)\n",
    "ax.legend()\n",
    "ax.grid(True)"
   ]
  },
  {
   "cell_type": "code",
   "execution_count": null,
   "metadata": {},
   "outputs": [],
   "source": []
  }
 ],
 "metadata": {
  "kernelspec": {
   "display_name": "Python 3",
   "language": "python",
   "name": "python3"
  },
  "language_info": {
   "codemirror_mode": {
    "name": "ipython",
    "version": 3
   },
   "file_extension": ".py",
   "mimetype": "text/x-python",
   "name": "python",
   "nbconvert_exporter": "python",
   "pygments_lexer": "ipython3",
   "version": "3.7.3"
  }
 },
 "nbformat": 4,
 "nbformat_minor": 2
}
