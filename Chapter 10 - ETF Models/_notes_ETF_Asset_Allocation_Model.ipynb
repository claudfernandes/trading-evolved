{
 "cells": [
  {
   "cell_type": "markdown",
   "metadata": {},
   "source": [
    "In its simplest form, an asset allocation model is a mix of broad asset clases, held at a predetermined weight.\n",
    "It's more of a long term investment approach than trading.\n",
    "\n",
    "One approach: 70 bonds / 30 stocks\n",
    "\n",
    "rules of this ETF model\n",
    "- we'll use 5 ETFs to allocate our assets to\n",
    "- each ETF has a target weight\n",
    "- at the beginning of the month, reset the allocation to this target weight"
   ]
  },
  {
   "cell_type": "code",
   "execution_count": 1,
   "metadata": {},
   "outputs": [
    {
     "name": "stderr",
     "output_type": "stream",
     "text": [
      "/home/mkwon/anaconda3/envs/zip35/lib/python3.5/site-packages/empyrical/utils.py:32: UserWarning: Unable to import pandas_datareader. Suppressing import error and continuing. All data reading functionality will raise errors; but has been deprecated and will be removed in a later version.\n",
      "  warnings.warn(msg)\n"
     ]
    }
   ],
   "source": [
    "%matplotlib inline\n",
    "import zipline\n",
    "from zipline.api import order_target_percent, symbol, schedule_function, date_rules, time_rules\n",
    "from datetime import datetime\n",
    "import pytz\n",
    "from matplotlib import pyplot as plt\n",
    "import pandas as pd"
   ]
  },
  {
   "cell_type": "code",
   "execution_count": 2,
   "metadata": {},
   "outputs": [
    {
     "ename": "UnknownBundle",
     "evalue": "No bundle registered with the name 'ac_equities_db'",
     "output_type": "error",
     "traceback": [
      "\u001b[0;31m---------------------------------------------------------------------------\u001b[0m",
      "\u001b[0;31mUnknownBundle\u001b[0m                             Traceback (most recent call last)",
      "\u001b[0;32m<ipython-input-2-ce8d0736443c>\u001b[0m in \u001b[0;36m<module>\u001b[0;34m\u001b[0m\n\u001b[1;32m     32\u001b[0m     \u001b[0mcapital_base\u001b[0m\u001b[0;34m=\u001b[0m\u001b[0;36m100000\u001b[0m\u001b[0;34m,\u001b[0m \u001b[0;31m# Set initial capital\u001b[0m\u001b[0;34m\u001b[0m\u001b[0m\n\u001b[1;32m     33\u001b[0m     \u001b[0mdata_frequency\u001b[0m \u001b[0;34m=\u001b[0m \u001b[0;34m'daily'\u001b[0m\u001b[0;34m,\u001b[0m  \u001b[0;31m# Set data frequency\u001b[0m\u001b[0;34m\u001b[0m\u001b[0m\n\u001b[0;32m---> 34\u001b[0;31m     bundle='ac_equities_db' ) # Select bundle\n\u001b[0m\u001b[1;32m     35\u001b[0m \u001b[0;34m\u001b[0m\u001b[0m\n\u001b[1;32m     36\u001b[0m \u001b[0mprint\u001b[0m\u001b[0;34m(\u001b[0m\u001b[0;34m\"Ready to analyze result.\"\u001b[0m\u001b[0;34m)\u001b[0m\u001b[0;34m\u001b[0m\u001b[0m\n",
      "\u001b[0;32m~/anaconda3/envs/zip35/lib/python3.5/site-packages/zipline/utils/run_algo.py\u001b[0m in \u001b[0;36mrun_algorithm\u001b[0;34m(start, end, initialize, capital_base, handle_data, before_trading_start, analyze, data_frequency, data, bundle, bundle_timestamp, trading_calendar, metrics_set, default_extension, extensions, strict_extensions, environ, blotter)\u001b[0m\n\u001b[1;32m    428\u001b[0m         \u001b[0mlocal_namespace\u001b[0m\u001b[0;34m=\u001b[0m\u001b[0;32mFalse\u001b[0m\u001b[0;34m,\u001b[0m\u001b[0;34m\u001b[0m\u001b[0m\n\u001b[1;32m    429\u001b[0m         \u001b[0menviron\u001b[0m\u001b[0;34m=\u001b[0m\u001b[0menviron\u001b[0m\u001b[0;34m,\u001b[0m\u001b[0;34m\u001b[0m\u001b[0m\n\u001b[0;32m--> 430\u001b[0;31m         \u001b[0mblotter\u001b[0m\u001b[0;34m=\u001b[0m\u001b[0mblotter\u001b[0m\u001b[0;34m,\u001b[0m\u001b[0;34m\u001b[0m\u001b[0m\n\u001b[0m\u001b[1;32m    431\u001b[0m     )\n",
      "\u001b[0;32m~/anaconda3/envs/zip35/lib/python3.5/site-packages/zipline/utils/run_algo.py\u001b[0m in \u001b[0;36m_run\u001b[0;34m(handle_data, initialize, before_trading_start, analyze, algofile, algotext, defines, data_frequency, capital_base, data, bundle, bundle_timestamp, start, end, output, trading_calendar, print_algo, metrics_set, local_namespace, environ, blotter)\u001b[0m\n\u001b[1;32m    139\u001b[0m             \u001b[0mbundle\u001b[0m\u001b[0;34m,\u001b[0m\u001b[0;34m\u001b[0m\u001b[0m\n\u001b[1;32m    140\u001b[0m             \u001b[0menviron\u001b[0m\u001b[0;34m,\u001b[0m\u001b[0;34m\u001b[0m\u001b[0m\n\u001b[0;32m--> 141\u001b[0;31m             \u001b[0mbundle_timestamp\u001b[0m\u001b[0;34m,\u001b[0m\u001b[0;34m\u001b[0m\u001b[0m\n\u001b[0m\u001b[1;32m    142\u001b[0m         )\n\u001b[1;32m    143\u001b[0m \u001b[0;34m\u001b[0m\u001b[0m\n",
      "\u001b[0;32m~/anaconda3/envs/zip35/lib/python3.5/site-packages/zipline/data/bundles/core.py\u001b[0m in \u001b[0;36mload\u001b[0;34m(name, environ, timestamp)\u001b[0m\n\u001b[1;32m    519\u001b[0m         \u001b[0;32mif\u001b[0m \u001b[0mtimestamp\u001b[0m \u001b[0;32mis\u001b[0m \u001b[0;32mNone\u001b[0m\u001b[0;34m:\u001b[0m\u001b[0;34m\u001b[0m\u001b[0m\n\u001b[1;32m    520\u001b[0m             \u001b[0mtimestamp\u001b[0m \u001b[0;34m=\u001b[0m \u001b[0mpd\u001b[0m\u001b[0;34m.\u001b[0m\u001b[0mTimestamp\u001b[0m\u001b[0;34m.\u001b[0m\u001b[0mutcnow\u001b[0m\u001b[0;34m(\u001b[0m\u001b[0;34m)\u001b[0m\u001b[0;34m\u001b[0m\u001b[0m\n\u001b[0;32m--> 521\u001b[0;31m         \u001b[0mtimestr\u001b[0m \u001b[0;34m=\u001b[0m \u001b[0mmost_recent_data\u001b[0m\u001b[0;34m(\u001b[0m\u001b[0mname\u001b[0m\u001b[0;34m,\u001b[0m \u001b[0mtimestamp\u001b[0m\u001b[0;34m,\u001b[0m \u001b[0menviron\u001b[0m\u001b[0;34m=\u001b[0m\u001b[0menviron\u001b[0m\u001b[0;34m)\u001b[0m\u001b[0;34m\u001b[0m\u001b[0m\n\u001b[0m\u001b[1;32m    522\u001b[0m         return BundleData(\n\u001b[1;32m    523\u001b[0m             asset_finder=AssetFinder(\n",
      "\u001b[0;32m~/anaconda3/envs/zip35/lib/python3.5/site-packages/zipline/data/bundles/core.py\u001b[0m in \u001b[0;36mmost_recent_data\u001b[0;34m(bundle_name, timestamp, environ)\u001b[0m\n\u001b[1;32m    474\u001b[0m         \"\"\"\n\u001b[1;32m    475\u001b[0m         \u001b[0;32mif\u001b[0m \u001b[0mbundle_name\u001b[0m \u001b[0;32mnot\u001b[0m \u001b[0;32min\u001b[0m \u001b[0mbundles\u001b[0m\u001b[0;34m:\u001b[0m\u001b[0;34m\u001b[0m\u001b[0m\n\u001b[0;32m--> 476\u001b[0;31m             \u001b[0;32mraise\u001b[0m \u001b[0mUnknownBundle\u001b[0m\u001b[0;34m(\u001b[0m\u001b[0mbundle_name\u001b[0m\u001b[0;34m)\u001b[0m\u001b[0;34m\u001b[0m\u001b[0m\n\u001b[0m\u001b[1;32m    477\u001b[0m \u001b[0;34m\u001b[0m\u001b[0m\n\u001b[1;32m    478\u001b[0m         \u001b[0;32mtry\u001b[0m\u001b[0;34m:\u001b[0m\u001b[0;34m\u001b[0m\u001b[0m\n",
      "\u001b[0;31mUnknownBundle\u001b[0m: No bundle registered with the name 'ac_equities_db'"
     ]
    }
   ],
   "source": [
    "def initialize(context):\n",
    "    # Securities and target weights\n",
    "    context.securities = {\n",
    "        'SPY': 0.25, \n",
    "        'TLT': 0.3, \n",
    "        'IEF': 0.3, \n",
    "        'GLD': 0.075, \n",
    "        'DBC': 0.075\n",
    "    }\n",
    "    \n",
    "    # Schedule rebalance for once a month\n",
    "    schedule_function(rebalance, date_rules.month_start(), time_rules.market_open())\n",
    "    \n",
    "def rebalance(context, data):\n",
    "    # Loop through the securities\n",
    "    for sec, weight in context.securities.items():\n",
    "        sym = symbol(sec)\n",
    "        # Check if we can trade\n",
    "        if data.can_trade(sym):\n",
    "            # Reset the weight\n",
    "            order_target_percent(sym, weight) \n",
    "            \n",
    "# Set start and end\n",
    "start = datetime(1997, 1, 1, 8, 15, 12, 0, pytz.UTC)\n",
    "end = datetime(2018, 12, 31, 8, 15, 12, 0, pytz.UTC)\n",
    "\n",
    "# Fire off backtest\n",
    "result = zipline.run_algorithm(\n",
    "    start=start,              # Set start\n",
    "    end=end,                  # Set end\n",
    "    initialize=initialize,    # Define startup function\n",
    "    capital_base=100000,      # Set initial capital\n",
    "    data_frequency = 'daily', # Set data frequency\n",
    "    bundle='ac_equities_db' ) # Select bundle\n",
    "\n",
    "print(\"Ready to analyze result.\")"
   ]
  },
  {
   "cell_type": "code",
   "execution_count": null,
   "metadata": {},
   "outputs": [],
   "source": [
    "# TODO: connect equities data source"
   ]
  }
 ],
 "metadata": {
  "kernelspec": {
   "display_name": "zip35",
   "language": "python",
   "name": "zip35"
  },
  "language_info": {
   "codemirror_mode": {
    "name": "ipython",
    "version": 3
   },
   "file_extension": ".py",
   "mimetype": "text/x-python",
   "name": "python",
   "nbconvert_exporter": "python",
   "pygments_lexer": "ipython3",
   "version": "3.5.6"
  }
 },
 "nbformat": 4,
 "nbformat_minor": 2
}
