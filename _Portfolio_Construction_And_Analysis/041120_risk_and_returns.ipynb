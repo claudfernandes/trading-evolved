{
 "cells": [
  {
   "cell_type": "markdown",
   "metadata": {},
   "source": [
    "###  risk and performance measures\n",
    "\n",
    "- Introducing volatility as the standard risk measure, we also provide a discussion of the\n",
    "\n",
    "\n",
    "- statistical significance and persistence of non-normality risks, emphasizing an understanding of higher-order moments and how to use them for allocating to assets with non-normal returns.\n",
    "\n",
    "\n",
    "- downside risk measures\n",
    "    - Value-at-Risk \n",
    "    - Conditional-Value-at-Risk, which are more relevant risk measures in the presence of non-normally distributed asset returns.\n",
    "\n",
    "---"
   ]
  },
  {
   "cell_type": "markdown",
   "metadata": {},
   "source": [
    "\n",
    "## Risk and Returns"
   ]
  },
  {
   "cell_type": "code",
   "execution_count": null,
   "metadata": {},
   "outputs": [],
   "source": []
  },
  {
   "cell_type": "markdown",
   "metadata": {},
   "source": [
    "## Beyond the Gaussian Case: Extreme risk estimates"
   ]
  },
  {
   "cell_type": "code",
   "execution_count": null,
   "metadata": {},
   "outputs": [],
   "source": []
  }
 ],
 "metadata": {
  "kernelspec": {
   "display_name": "Python 3",
   "language": "python",
   "name": "python3"
  },
  "language_info": {
   "codemirror_mode": {
    "name": "ipython",
    "version": 3
   },
   "file_extension": ".py",
   "mimetype": "text/x-python",
   "name": "python",
   "nbconvert_exporter": "python",
   "pygments_lexer": "ipython3",
   "version": "3.7.3"
  }
 },
 "nbformat": 4,
 "nbformat_minor": 2
}
