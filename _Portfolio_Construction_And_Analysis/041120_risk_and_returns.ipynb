{
 "cells": [
  {
   "cell_type": "markdown",
   "metadata": {},
   "source": [
    "###  risk and performance measures\n",
    "\n",
    "- Introducing volatility as the standard risk measure, we also provide a discussion of the\n",
    "\n",
    "\n",
    "- statistical significance and persistence of non-normality risks, emphasizing an understanding of higher-order moments and how to use them for allocating to assets with non-normal returns.\n",
    "\n",
    "\n",
    "- downside risk measures\n",
    "    - Value-at-Risk \n",
    "    - Conditional-Value-at-Risk, which are more relevant risk measures in the presence of non-normally distributed asset returns.\n",
    "\n",
    "---"
   ]
  },
  {
   "cell_type": "markdown",
   "metadata": {},
   "source": [
    "\n",
    "## Risk and Returns\n",
    "\n",
    "![Imgur](https://i.imgur.com/nZJ3zD6.png)\n",
    "\n",
    "This is a set of 12 monthly returns of an asset, actually, of two assets. There's the blue asset, and there's the orange asset. Now clearly, they're both different in some way. The blue asset is a lot less volatile, and you can see that it tends to have less variation, and the orange asset is a lot more volatile. But what's interesting is both of these assets have exactly the same monthly return of 1%, so we're looking at 12 returns, that means 12 months, and it's, 1% is the average return of both of these assets. But clearly they are not behaving the same. \n",
    "\n",
    "So right away, we should be able to tell that **average returns are not a good way to look at how an asset behaves**. The average return can, as we'll see, be quite misleading.\n",
    "\n",
    "![Imgur](https://i.imgur.com/gcyCuiN.png)\n",
    "\n",
    "One way of trying to understand the difference between these is by looking at what would happen if you invested in these two assets. So if you look at this chart, what happens is, I've put $1,000 in both of these assets at the start of the year, and I look at how it's done during the course of the year. And you can see the blue asset sort of chugs along and does fairly well, and the orange asset is all over the place. And for a good part of the year, It looks like the orange asset might have been the smart thing to be in, but it actually ends the year lower.\n",
    "\n",
    "Just because the average monthly return, is the same, doesn't mean that you're going to end up with the same amount of money. \n",
    "\n",
    "**How do you characterize returns, and what is a good way of thinking about what the returns of an asset are?**\n",
    "\n",
    "---\n",
    "\n",
    "### computing return\n",
    "\n",
    "- the return on the asset is nothing more than the difference in the prices\n",
    "![Imgur](https://i.imgur.com/wYlkYpj.png)\n",
    "\n",
    "What about dividends?\n",
    "![Imgur](https://i.imgur.com/QYQfFOP.png)\n",
    "\n",
    "---\n",
    "\n",
    "### multi-period returns\n",
    "- if you have two time periods, T0 to T1 and T1 to T2. You have a return for each time period,\n",
    "    - what is the return over the combined time period? So you have to basically think of this as compounding the returns over time. \n",
    "\n",
    "![Imgur](https://i.imgur.com/KC1Tie4.png)\n",
    "![Imgur](https://i.imgur.com/ASm0wD6.png)\n",
    "\n",
    "---\n",
    "\n",
    "### comparing returns across different periods of time\n",
    "\n",
    "How do you compare monthly return with, say, quarterly return or a daily return? \n",
    "\n",
    "A: **Annualizing Returns**: the return you would get if the return that you're looking at had continued for a year\n",
    "\n",
    "![Imgur](https://i.imgur.com/XKiSgYR.png)"
   ]
  },
  {
   "cell_type": "code",
   "execution_count": null,
   "metadata": {},
   "outputs": [],
   "source": []
  },
  {
   "cell_type": "code",
   "execution_count": null,
   "metadata": {},
   "outputs": [],
   "source": []
  },
  {
   "cell_type": "markdown",
   "metadata": {},
   "source": [
    "## Beyond the Gaussian Case: Extreme risk estimates"
   ]
  },
  {
   "cell_type": "code",
   "execution_count": null,
   "metadata": {},
   "outputs": [],
   "source": []
  }
 ],
 "metadata": {
  "kernelspec": {
   "display_name": "Python 3",
   "language": "python",
   "name": "python3"
  },
  "language_info": {
   "codemirror_mode": {
    "name": "ipython",
    "version": 3
   },
   "file_extension": ".py",
   "mimetype": "text/x-python",
   "name": "python",
   "nbconvert_exporter": "python",
   "pygments_lexer": "ipython3",
   "version": "3.7.3"
  }
 },
 "nbformat": 4,
 "nbformat_minor": 2
}
